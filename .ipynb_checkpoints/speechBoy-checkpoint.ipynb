{
 "cells": [
  {
   "cell_type": "code",
   "execution_count": 5,
   "metadata": {},
   "outputs": [
    {
     "name": "stdout",
     "output_type": "stream",
     "text": [
      "com.apple.speech.synthesis.voice.Alex\n"
     ]
    }
   ],
   "source": [
    "import os\n",
    "import pyttsx3 #for speak the test\n",
    "import speech_recognition as sr # for speechRecognition\n",
    "import datetime # for datetime\n",
    "import wikipedia \n",
    "import webbrowser\n",
    "engine = pyttsx3.init()\n",
    "engine.runAndWait()\n",
    "voices=engine.getProperty(\"voices\")\n",
    "print(voices[0].id)\n",
    "engine.setProperty(\"voice\",voices[0].id)\n",
    "\n"
   ]
  },
  {
   "cell_type": "code",
   "execution_count": 6,
   "metadata": {},
   "outputs": [
    {
     "ename": "SyntaxError",
     "evalue": "invalid syntax (<ipython-input-6-e7ed3643c66d>, line 46)",
     "output_type": "error",
     "traceback": [
      "\u001b[0;36m  File \u001b[0;32m\"<ipython-input-6-e7ed3643c66d>\"\u001b[0;36m, line \u001b[0;32m46\u001b[0m\n\u001b[0;31m    elif \"google\" in query:\u001b[0m\n\u001b[0m       ^\u001b[0m\n\u001b[0;31mSyntaxError\u001b[0m\u001b[0;31m:\u001b[0m invalid syntax\n"
     ]
    }
   ],
   "source": [
    "def speak(audio): #to define my speak\n",
    "    engine.say(audio)\n",
    "    engine.runAndWait()\n",
    "\n",
    "def wishme():# for wish me daily\n",
    "    hour=int(datetime.datetime.now().hour)\n",
    "    if hour>=0 and hour<12:\n",
    "        speak(\"Good Morning!!\")\n",
    "        \n",
    "    elif hour>=12 and hour<18:\n",
    "         speak(\"Good Afternoon!! \")\n",
    "    elif hour>=18 and hour <=22:\n",
    "        speak(\"Good Evening  !!!!\")\n",
    "        \n",
    "    else:\n",
    "        speak(\"Good Night!!\")\n",
    "    speak(\"Hi I am Hunnkk Please tell me how may i help you \")\n",
    "def takeCommand():\n",
    "    # it takes microphone input from the user and return string outputZ\n",
    "    r=sr.Recognizer()\n",
    "    with sr.Microphone() as source:\n",
    "        print(\"Listening........\")\n",
    "        r.peuse_threshold=1\n",
    "        audio=r.listen(source)\n",
    "    try:\n",
    "        print(\"Recogizing.......\")\n",
    "        query=r.recognize_google(audio,language=\"en-in\")\n",
    "        print(\"user said:\",query)\n",
    "    except Exception as e:\n",
    "        print(\"Say that again Please....\")\n",
    "        return \"None\"\n",
    "    return query\n",
    "if __name__==\"__main__\" :\n",
    "    wishme()\n",
    "    while True:\n",
    "        query=takeCommand().lower()\n",
    "    \n",
    "        \n",
    "        #logic for task based query\n",
    "        if 'wikipedia' in query:\n",
    "            speak(\"Searching Wikipedia.....Please Wait\")\n",
    "            query=query.replace('wikipedia',\"\")\n",
    "            results=wikipedia.summary(query,sentences=2)\n",
    "            speak(\"Accoding to wikipedia\")\n",
    "            speak(results)\n",
    "        elif \"google\" in query:\n",
    "            webbrowser.get('chrome %s').open_new_tab('http://www.google.com')\n",
    "        elif \"open facebook\" in query:\n",
    "            webbrowser.get('chrome %s').open_new_tab('http://www.facebook.com')\n",
    "        elif \"open instagram\" in query:\n",
    "            wb.get('chrome %s').open_new_tab('http://www.instagram.com')\n",
    "        elif \"open youtube\" in query:\n",
    "            webbrowser.get('chrome %s').open_new_tab('http://www.youtube.com')\n",
    "        elif \"open stackoverflow\" in query:\n",
    "            webbrowser.get('chrome %s').open_new_tab('http://www.satckoverflow.com')\n",
    "        elif \"play music\" in query:\n",
    "            wb.get('chrome %s').open_new_tab(\"https://www.apple.com/in/itunes/\")\n",
    "           \n",
    "        elif \"time\" in query:\n",
    "            strTime=datetime.datetime.now().strftime(\"%H:%M:%S\")\n",
    "            speak(strTime)\n",
    "        #elif \"open apps\" in query:\n",
    "             #appPath=\"cd\\\\Applications\"\n",
    "        #os.startfile(appPath)\n",
    "\n",
    "    \n",
    "           \n",
    "        \n",
    "        \n",
    "    \n",
    "  \n",
    " \n",
    "    \n",
    "    \n",
    "        \n",
    "    \n",
    "    \n",
    "    \n",
    "#engine.say(\"Hi I am Twinkle.Please tell me how may i help you\")\n",
    "#engine.runAndWt()\n",
    "    \n",
    "\n",
    "    \n",
    "  "
   ]
  },
  {
   "cell_type": "code",
   "execution_count": null,
   "metadata": {},
   "outputs": [],
   "source": []
  }
 ],
 "metadata": {
  "kernelspec": {
   "display_name": "Python 3",
   "language": "python",
   "name": "python3"
  },
  "language_info": {
   "codemirror_mode": {
    "name": "ipython",
    "version": 3
   },
   "file_extension": ".py",
   "mimetype": "text/x-python",
   "name": "python",
   "nbconvert_exporter": "python",
   "pygments_lexer": "ipython3",
   "version": "3.7.3"
  }
 },
 "nbformat": 4,
 "nbformat_minor": 2
}
